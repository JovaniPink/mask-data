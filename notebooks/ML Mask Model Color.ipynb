{
 "cells": [
  {
   "cell_type": "markdown",
   "metadata": {},
   "source": [
    "# Mask Model Color"
   ]
  },
  {
   "cell_type": "markdown",
   "metadata": {},
   "source": [
    "## Dependencies"
   ]
  },
  {
   "cell_type": "code",
   "execution_count": 1,
   "metadata": {},
   "outputs": [
    {
     "name": "stdout",
     "output_type": "stream",
     "text": [
      "2.4.0\n",
      "[name: \"/device:CPU:0\"\n",
      "device_type: \"CPU\"\n",
      "memory_limit: 268435456\n",
      "locality {\n",
      "}\n",
      "incarnation: 14182112031558914083\n",
      "]\n"
     ]
    }
   ],
   "source": [
    "%config IPCompleter.greedy=True\n",
    "%matplotlib inline\n",
    "\n",
    "# Import the dependencies.\n",
    "# OpenCV\n",
    "import cv2\n",
    "\n",
    "# TensorFlow and tf.keras\n",
    "# https://www.tensorflow.org/api_docs/python/tf/keras\n",
    "import tensorflow as tf\n",
    "from tensorflow.keras import layers\n",
    "from tensorflow.keras.models import Sequential, save_model, load_model\n",
    "\n",
    "# Helper libraries\n",
    "import os\n",
    "import numpy as np\n",
    "import matplotlib.pyplot as plt\n",
    "\n",
    "# Tensorflow Libraries Matter for Speed!!!\n",
    "print(tf.__version__)\n",
    "from tensorflow.python.client import device_lib\n",
    "print(device_lib.list_local_devices())"
   ]
  },
  {
   "cell_type": "markdown",
   "metadata": {},
   "source": [
    "## Data Loading"
   ]
  },
  {
   "cell_type": "code",
   "execution_count": 2,
   "metadata": {},
   "outputs": [
    {
     "name": "stdout",
     "output_type": "stream",
     "text": [
      "Printing the labels'dict' {'without_mask': 0, 'with_mask': 1}\n",
      "Printing the categories'list' ['without_mask', 'with_mask']\n",
      "Printing the labels as digits [0, 1]\n"
     ]
    }
   ],
   "source": [
    "# Processed folder houses the already seperated image files\n",
    "# Images are separated into two categories \"without_mask\" & \"with_mask\"\n",
    "# Grab the location of the processed folder\n",
    "train_data_path = \"../data/processed/train\"\n",
    "\n",
    "# grab the two folder groups and make them to categories\n",
    "categories = os.listdir(train_data_path)\n",
    "labels = [i for i in range(len(categories))]\n",
    "\n",
    "# Initialize an empty dictionary for labels\n",
    "label_dict = dict(zip(categories, labels))\n",
    "\n",
    "print(f\"Printing the labels'dict' {label_dict}\")\n",
    "print(f\"Printing the categories'list' {categories}\")\n",
    "print(f\"Printing the labels as digits {labels}\")\n"
   ]
  },
  {
   "cell_type": "code",
   "execution_count": 3,
   "metadata": {},
   "outputs": [
    {
     "name": "stdout",
     "output_type": "stream",
     "text": [
      "Printing the labels'dict' {'without_mask': 0, 'with_mask': 1}\n",
      "Printing the categories'list' ['without_mask', 'with_mask']\n",
      "Printing the labels as digits [0, 1]\n"
     ]
    }
   ],
   "source": [
    "# Processed folder houses the already seperated image files\n",
    "# Images are sperated into two categories \"without_mask\" & \"with_mask\"\n",
    "# Grab the location of the processed folder\n",
    "test_data_path = \"../data/processed/test\"\n",
    "\n",
    "# grab the two folder groups and make them to categories\n",
    "test_categories = os.listdir(test_data_path)\n",
    "test_labels = [i for i in range(len(test_categories))]\n",
    "\n",
    "# Initialize an empty dictionary for labels\n",
    "test_label_dict = dict(zip(test_categories, test_labels))\n",
    "\n",
    "print(f\"Printing the labels'dict' {test_label_dict}\")\n",
    "print(f\"Printing the categories'list' {test_categories}\")\n",
    "print(f\"Printing the labels as digits {test_labels}\")\n"
   ]
  },
  {
   "cell_type": "markdown",
   "metadata": {},
   "source": [
    "## Data Preprocessing"
   ]
  },
  {
   "cell_type": "code",
   "execution_count": 4,
   "metadata": {},
   "outputs": [],
   "source": [
    "# Normalizing all images to the same size 300x300\n",
    "img_size = 100\n",
    "# List\n",
    "data = []\n",
    "target = []\n",
    "\n",
    "# Looping through the processed folder grabing each image\n",
    "# processing that image through cv2 to gray scale and demension\n",
    "for category in categories:\n",
    "    folder_path = os.path.join(train_data_path, category)\n",
    "    img_names = os.listdir(folder_path)\n",
    "\n",
    "    for img_name in img_names:\n",
    "        img_path = os.path.join(folder_path, img_name)\n",
    "        img = cv2.cvtColor(cv2.imread(img_path), cv2.COLOR_BGR2RGB)\n",
    "\n",
    "        try:\n",
    "            # Coverting the image into gray scale\n",
    "            # gray = cv2.cvtColor(cv2.imread(img_path), cv2.COLOR_BGR2GRAY)\n",
    "            # Resizing the gray scale into 100x100, since we need a fixed common size for all the images in the dataset\n",
    "            resized = cv2.resize(img, (img_size, img_size))\n",
    "            # Appending the image and the label(categorized) into the list (dataset)\n",
    "            data.append(resized)\n",
    "            target.append(label_dict[category])\n",
    "\n",
    "        except Exception as e:\n",
    "            # If any exception raised, the exception will be printed here. And pass to the next image\n",
    "            print(\"Exception:\", e)\n"
   ]
  },
  {
   "cell_type": "code",
   "execution_count": 17,
   "metadata": {},
   "outputs": [
    {
     "name": "stdout",
     "output_type": "stream",
     "text": [
      "<class 'numpy.ndarray'>\n",
      "(4464, 100, 100, 3)\n"
     ]
    }
   ],
   "source": [
    "# Create a numpy array to store data and target\n",
    "# Normalize data\n",
    "data = np.array(data) / 255.0\n",
    "\n",
    "data = np.reshape(data, (data.shape[0], img_size, img_size, 3))\n",
    "target = np.array(target)\n",
    "print(type(data))\n",
    "print(data.shape)\n",
    "# Use the keras utils tool to create categorical target\n",
    "new_target = tf.keras.utils.to_categorical(target)\n"
   ]
  },
  {
   "cell_type": "code",
   "execution_count": 7,
   "metadata": {},
   "outputs": [],
   "source": [
    "# https://numpy.org/doc/stable/reference/generated/numpy.save.html\n",
    "np.save(\"numpy/color/data\", data)\n",
    "np.save(\"numpy/color/target\", new_target)\n"
   ]
  },
  {
   "cell_type": "markdown",
   "metadata": {},
   "source": [
    "## Building a Model\n",
    "\n",
    "Using a convolutional neural network (CNN) class of deep learning model.\n",
    "\n",
    "To build our training and testing datasets, we need to separate two values:\n",
    "\n",
    "- input values (which are our independent variables commonly referred to as model features or \"X\" in TensorFlow documentation https://www.tensorflow.org/guide/\n",
    "- target output (our dependent variable commonly referred to as target or \"y\" in TensorFlow documentation)"
   ]
  },
  {
   "cell_type": "code",
   "execution_count": 8,
   "metadata": {},
   "outputs": [
    {
     "name": "stdout",
     "output_type": "stream",
     "text": [
      "(100, 100, 3)\n"
     ]
    }
   ],
   "source": [
    "# Loading in the saved numpy arrays in the previous code\n",
    "data = np.load(\"numpy/color/data.npy\")\n",
    "target = np.load(\"numpy/color/target.npy\")\n",
    "print(data.shape[1:])"
   ]
  },
  {
   "cell_type": "code",
   "execution_count": 9,
   "metadata": {},
   "outputs": [
    {
     "name": "stdout",
     "output_type": "stream",
     "text": [
      "Model: \"sequential\"\n",
      "_________________________________________________________________\n",
      "Layer (type)                 Output Shape              Param #   \n",
      "=================================================================\n",
      "conv2d (Conv2D)              (None, 98, 98, 50)        1400      \n",
      "_________________________________________________________________\n",
      "max_pooling2d (MaxPooling2D) (None, 49, 49, 50)        0         \n",
      "_________________________________________________________________\n",
      "conv2d_1 (Conv2D)            (None, 49, 49, 50)        2550      \n",
      "_________________________________________________________________\n",
      "max_pooling2d_1 (MaxPooling2 (None, 24, 24, 50)        0         \n",
      "_________________________________________________________________\n",
      "conv2d_2 (Conv2D)            (None, 22, 22, 100)       45100     \n",
      "_________________________________________________________________\n",
      "max_pooling2d_2 (MaxPooling2 (None, 11, 11, 100)       0         \n",
      "_________________________________________________________________\n",
      "conv2d_3 (Conv2D)            (None, 9, 9, 200)         180200    \n",
      "_________________________________________________________________\n",
      "max_pooling2d_3 (MaxPooling2 (None, 4, 4, 200)         0         \n",
      "_________________________________________________________________\n",
      "dropout (Dropout)            (None, 4, 4, 200)         0         \n",
      "_________________________________________________________________\n",
      "flatten (Flatten)            (None, 3200)              0         \n",
      "_________________________________________________________________\n",
      "dense (Dense)                (None, 50)                160050    \n",
      "_________________________________________________________________\n",
      "dense_1 (Dense)              (None, 2)                 102       \n",
      "=================================================================\n",
      "Total params: 389,402\n",
      "Trainable params: 389,402\n",
      "Non-trainable params: 0\n",
      "_________________________________________________________________\n",
      "None\n"
     ]
    }
   ],
   "source": [
    "# Create the model\n",
    "model = Sequential()\n",
    "\n",
    "# The first CNN layer followed by Relu and MaxPooling layers\n",
    "model.add(layers.Conv2D(50, (3, 3), activation=\"relu\", input_shape=(100, 100, 3)))\n",
    "model.add(layers.MaxPooling2D(pool_size=(2, 2)))\n",
    "\n",
    "# The second convolution layer followed by Relu and MaxPooling layers\n",
    "model.add(layers.Conv2D(50, (1, 1), activation=\"relu\"))\n",
    "model.add(layers.MaxPooling2D(pool_size=(2, 2)))\n",
    "\n",
    "# The thrid convolution layer followed by Relu and MaxPooling layers\n",
    "model.add(layers.Conv2D(100, (3, 3), activation=\"relu\"))\n",
    "model.add(layers.MaxPooling2D(pool_size=(2, 2)))\n",
    "\n",
    "# The fourth convolution layer followed by Relu and MaxPooling layers\n",
    "model.add(layers.Conv2D(200, (3, 3), activation=\"relu\"))\n",
    "model.add(layers.MaxPooling2D(pool_size=(2, 2)))\n",
    "\n",
    "# Flatten layer to stack the output convolutions from the fourth convolution layer\n",
    "model.add(layers.Dropout(0.25))\n",
    "model.add(layers.Flatten())\n",
    "\n",
    "# Dense layer of 64 neurons\n",
    "model.add(layers.Dense(64, activation=\"relu\"))\n",
    "# The Final layer with two outputs for two categories\n",
    "model.add(layers.Dense(2, activation=\"softmax\"))\n",
    "\n",
    "print(model.summary())\n"
   ]
  },
  {
   "source": [
    "To enhance the performance of our classification neural network, we'll use the adam optimizer, which uses a gradient descent approach to ensure that the algorithm will not get stuck on weaker classifying variables and features.\n",
    "\n",
    "As for the loss function, we'll use categorical_crossentropy, which is  is used in multi-class classification tasks. These are tasks where an example can only belong to one out of many possible categories, and the model must decide which one.\n",
    "\n",
    "Formally, it is designed to quantify the difference between two probability distributions.\n",
    "\n",
    "https://peltarion.com/knowledge-center/documentation/modeling-view/build-an-ai-model/loss-functions/categorical-crossentropy"
   ],
   "cell_type": "markdown",
   "metadata": {}
  },
  {
   "cell_type": "code",
   "execution_count": 10,
   "metadata": {},
   "outputs": [],
   "source": [
    "# The process of informing the model how it should learn and train is called compiling the model.\n",
    "\n",
    "# Compile the model\n",
    "model.compile(loss=\"categorical_crossentropy\", optimizer=\"adam\", metrics=[\"accuracy\"])\n"
   ]
  },
  {
   "cell_type": "markdown",
   "metadata": {},
   "source": [
    "## Train the Model\n",
    "\n",
    "https://www.tensorflow.org/guide/keras/train_and_evaluate/"
   ]
  },
  {
   "cell_type": "code",
   "execution_count": 11,
   "metadata": {},
   "outputs": [],
   "source": [
    "from sklearn.model_selection import train_test_split\n",
    "\n",
    "# Use the train_test_split to split the data into training and testing set.\n",
    "# The data set isnt very large so only using 15% to test.\n",
    "train_data, test_data, train_target, test_target = train_test_split(\n",
    "    data, target, test_size=0.15\n",
    ")\n"
   ]
  },
  {
   "cell_type": "code",
   "execution_count": 12,
   "metadata": {},
   "outputs": [
    {
     "name": "stdout",
     "output_type": "stream",
     "text": [
      "Epoch 1/30\n",
      "95/95 [==============================] - 14s 141ms/step - loss: 0.5389 - accuracy: 0.7014 - val_loss: 0.1851 - val_accuracy: 0.9315\n",
      "INFO:tensorflow:Assets written to: model-checkpoints-color\\model-001.model\\assets\n",
      "Epoch 2/30\n",
      "95/95 [==============================] - 13s 142ms/step - loss: 0.2206 - accuracy: 0.9249 - val_loss: 0.1691 - val_accuracy: 0.9420\n",
      "INFO:tensorflow:Assets written to: model-checkpoints-color\\model-002.model\\assets\n",
      "Epoch 3/30\n",
      "95/95 [==============================] - 14s 146ms/step - loss: 0.1751 - accuracy: 0.9297 - val_loss: 0.3405 - val_accuracy: 0.8340\n",
      "Epoch 4/30\n",
      "95/95 [==============================] - 14s 143ms/step - loss: 0.1741 - accuracy: 0.9298 - val_loss: 0.1762 - val_accuracy: 0.9328\n",
      "Epoch 5/30\n",
      "95/95 [==============================] - 14s 144ms/step - loss: 0.1255 - accuracy: 0.9566 - val_loss: 0.1402 - val_accuracy: 0.9565\n",
      "INFO:tensorflow:Assets written to: model-checkpoints-color\\model-005.model\\assets\n",
      "Epoch 6/30\n",
      "95/95 [==============================] - 14s 143ms/step - loss: 0.1189 - accuracy: 0.9564 - val_loss: 0.1102 - val_accuracy: 0.9605\n",
      "INFO:tensorflow:Assets written to: model-checkpoints-color\\model-006.model\\assets\n",
      "Epoch 7/30\n",
      "95/95 [==============================] - 14s 144ms/step - loss: 0.1029 - accuracy: 0.9608 - val_loss: 0.0897 - val_accuracy: 0.9671\n",
      "INFO:tensorflow:Assets written to: model-checkpoints-color\\model-007.model\\assets\n",
      "Epoch 8/30\n",
      "95/95 [==============================] - 14s 143ms/step - loss: 0.0840 - accuracy: 0.9715 - val_loss: 0.1117 - val_accuracy: 0.9592\n",
      "Epoch 9/30\n",
      "95/95 [==============================] - 14s 143ms/step - loss: 0.0800 - accuracy: 0.9739 - val_loss: 0.1080 - val_accuracy: 0.9578\n",
      "Epoch 10/30\n",
      "95/95 [==============================] - 13s 142ms/step - loss: 0.0825 - accuracy: 0.9701 - val_loss: 0.0732 - val_accuracy: 0.9750\n",
      "INFO:tensorflow:Assets written to: model-checkpoints-color\\model-010.model\\assets\n",
      "Epoch 11/30\n",
      "95/95 [==============================] - 14s 144ms/step - loss: 0.0531 - accuracy: 0.9810 - val_loss: 0.1148 - val_accuracy: 0.9486\n",
      "Epoch 12/30\n",
      "95/95 [==============================] - 14s 151ms/step - loss: 0.0705 - accuracy: 0.9742 - val_loss: 0.0756 - val_accuracy: 0.9763\n",
      "Epoch 13/30\n",
      "95/95 [==============================] - 14s 149ms/step - loss: 0.0581 - accuracy: 0.9778 - val_loss: 0.0714 - val_accuracy: 0.9776\n",
      "INFO:tensorflow:Assets written to: model-checkpoints-color\\model-013.model\\assets\n",
      "Epoch 14/30\n",
      "95/95 [==============================] - 15s 159ms/step - loss: 0.0456 - accuracy: 0.9843 - val_loss: 0.0922 - val_accuracy: 0.9750\n",
      "Epoch 15/30\n",
      "95/95 [==============================] - 14s 144ms/step - loss: 0.0615 - accuracy: 0.9742 - val_loss: 0.0990 - val_accuracy: 0.9631\n",
      "Epoch 16/30\n",
      "95/95 [==============================] - 14s 144ms/step - loss: 0.0385 - accuracy: 0.9834 - val_loss: 0.0711 - val_accuracy: 0.9776\n",
      "INFO:tensorflow:Assets written to: model-checkpoints-color\\model-016.model\\assets\n",
      "Epoch 17/30\n",
      "95/95 [==============================] - 14s 144ms/step - loss: 0.0287 - accuracy: 0.9930 - val_loss: 0.0756 - val_accuracy: 0.9723\n",
      "Epoch 18/30\n",
      "95/95 [==============================] - 14s 145ms/step - loss: 0.0369 - accuracy: 0.9867 - val_loss: 0.0812 - val_accuracy: 0.9802\n",
      "Epoch 19/30\n",
      "95/95 [==============================] - 14s 145ms/step - loss: 0.0310 - accuracy: 0.9888 - val_loss: 0.0802 - val_accuracy: 0.9723\n",
      "Epoch 20/30\n",
      "95/95 [==============================] - 14s 144ms/step - loss: 0.0340 - accuracy: 0.9860 - val_loss: 0.0924 - val_accuracy: 0.9710\n",
      "Epoch 21/30\n",
      "95/95 [==============================] - 14s 146ms/step - loss: 0.0259 - accuracy: 0.9910 - val_loss: 0.0920 - val_accuracy: 0.9710\n",
      "Epoch 22/30\n",
      "95/95 [==============================] - 14s 146ms/step - loss: 0.0356 - accuracy: 0.9867 - val_loss: 0.0794 - val_accuracy: 0.9710\n",
      "Epoch 23/30\n",
      "95/95 [==============================] - 14s 144ms/step - loss: 0.0402 - accuracy: 0.9821 - val_loss: 0.1166 - val_accuracy: 0.9697\n",
      "Epoch 24/30\n",
      "95/95 [==============================] - 14s 148ms/step - loss: 0.0373 - accuracy: 0.9846 - val_loss: 0.0896 - val_accuracy: 0.9776\n",
      "Epoch 25/30\n",
      "95/95 [==============================] - 14s 145ms/step - loss: 0.0158 - accuracy: 0.9941 - val_loss: 0.1297 - val_accuracy: 0.9644\n",
      "Epoch 26/30\n",
      "95/95 [==============================] - 14s 144ms/step - loss: 0.0303 - accuracy: 0.9906 - val_loss: 0.1096 - val_accuracy: 0.9605\n",
      "Epoch 27/30\n",
      "95/95 [==============================] - 14s 145ms/step - loss: 0.0316 - accuracy: 0.9870 - val_loss: 0.1044 - val_accuracy: 0.9710\n",
      "Epoch 28/30\n",
      "95/95 [==============================] - 14s 146ms/step - loss: 0.0178 - accuracy: 0.9929 - val_loss: 0.1219 - val_accuracy: 0.9750\n",
      "Epoch 29/30\n",
      "95/95 [==============================] - 14s 147ms/step - loss: 0.0292 - accuracy: 0.9912 - val_loss: 0.0788 - val_accuracy: 0.9789\n",
      "Epoch 30/30\n",
      "95/95 [==============================] - 14s 146ms/step - loss: 0.0090 - accuracy: 0.9985 - val_loss: 0.1083 - val_accuracy: 0.9763\n"
     ]
    }
   ],
   "source": [
    "# To train/fit our Keras model, we'll use the fit method and provide the x training values and y training values, as well as the number of epochs.\n",
    "\n",
    "checkpoint = tf.keras.callbacks.ModelCheckpoint(\n",
    "    \"model-checkpoints-color/model-{epoch:03d}\",\n",
    "    monitor=\"val_loss\",\n",
    "    verbose=0,\n",
    "    save_best_only=True,\n",
    "    mode=\"auto\",\n",
    ")\n",
    "# Fit the model to the training data\n",
    "fit_model = model.fit(\n",
    "    train_data, train_target, epochs=30, callbacks=[checkpoint], validation_split=0.2\n",
    ")\n"
   ]
  },
  {
   "cell_type": "code",
   "execution_count": 13,
   "metadata": {},
   "outputs": [
    {
     "data": {
      "image/png": "[encoded data removed]",
      "text/plain": [
       "<Figure size 576x396 with 1 Axes>"
      ]
     },
     "metadata": {},
     "output_type": "display_data"
    }
   ],
   "source": [
    "# Another Chart of what\n",
    "# Defined style for plot\n",
    "plt.style.use(\"seaborn\")\n",
    "plt.title(\"Accuracy\")\n",
    "plt.plot(fit_model.history[\"accuracy\"], \"r\", label=\"Training Accuracy\")\n",
    "plt.plot(fit_model.history[\"val_accuracy\"], label=\"Validation Accuracy\")\n",
    "plt.xlabel(\"Number of Epochs\")\n",
    "plt.ylabel(\"Loss\")\n",
    "plt.legend()\n",
    "plt.savefig(\"../resources/accuracy.png\")\n",
    "plt.show()\n"
   ]
  },
  {
   "cell_type": "code",
   "execution_count": 14,
   "metadata": {},
   "outputs": [
    {
     "data": {
      "image/png": "[encoded data removed]",
      "text/plain": [
       "<Figure size 576x396 with 1 Axes>"
      ]
     },
     "metadata": {},
     "output_type": "display_data"
    }
   ],
   "source": [
    "# Chart of What?\n",
    "# Defined style for plot\n",
    "plt.style.use(\"seaborn\")\n",
    "plt.title(\"Loss\")\n",
    "plt.plot(fit_model.history[\"loss\"], \"r\", label=\"Training Loss\")\n",
    "plt.plot(fit_model.history[\"val_loss\"], label=\"Validation Loss\")\n",
    "plt.xlabel(\"Number of Epochs\")\n",
    "plt.ylabel(\"Loss\")\n",
    "plt.legend()\n",
    "plt.savefig(\"../resources/loss.png\")\n",
    "plt.show()\n"
   ]
  },
  {
   "cell_type": "markdown",
   "metadata": {},
   "source": [
    "Overfitting, where the model fits the training data too well. As a result of overfitting, the neural network will not generalize well and won't be able to classify new data correctly.\n",
    "\n",
    "Double check of over fitting... Usually, when a model performs great on training data but poorly on validation data, we call this condition overfitting... we need more solid data or use Keras Data augmentation "
   ]
  },
  {
   "cell_type": "code",
   "execution_count": 15,
   "metadata": {},
   "outputs": [
    {
     "name": "stdout",
     "output_type": "stream",
     "text": [
      "21/21 [==============================] - 1s 37ms/step - loss: 0.0896 - accuracy: 0.9851\n",
      "[0.08957702666521072, 0.9850746393203735]\n"
     ]
    }
   ],
   "source": [
    "# Evaluate the model using the test data\n",
    "model_loss, model_accuracy = model.evaluate(test_data, test_target,verbose=2)\n",
    "print(f\"Loss: {model_loss}, Accuracy: {model_accuracy}\")\n",
    "print(\"---------------------------------------------------------------------\")\n",
    "print(model.evaluate(test_data, test_target))\n"
   ]
  },
  {
   "cell_type": "code",
   "execution_count": 16,
   "metadata": {},
   "outputs": [
    {
     "name": "stdout",
     "output_type": "stream",
     "text": [
      "INFO:tensorflow:Assets written to: ./model-checkpoints-color/model\\assets\n"
     ]
    }
   ],
   "source": [
    "# Properly save the model for API use.\n",
    "model.save(\"./model-checkpoints-color/model\")\n"
   ]
  },
  {
   "source": [
    "As with all machine learning algorithms, neural networks are not perfect and will often underperform using a basic implementation. When a neural network model does not meet performance expectations, it is usually due to one of two causes: inadequate or inappropriate model design for a given dataset, or insufficient or ineffective training data."
   ],
   "cell_type": "markdown",
   "metadata": {}
  },
  {
   "cell_type": "code",
   "execution_count": null,
   "metadata": {},
   "outputs": [],
   "source": [
    "Therefore, the most straightforward means of improving neural network performance is tweaking the model design and parameters.\n",
    "\n",
    "There are a few means of optimizing a neural network:\n",
    "\n",
    "- Check out your input dataset.\n",
    "- Add more neurons to a hidden layer.\n",
    "- Add additional hidden layers.\n",
    "- Use a different activation function for the hidden layers.\n",
    "- Add additional epochs to the training regimen."
   ]
  }
 ],
 "metadata": {
  "kernelspec": {
   "display_name": "Python 3",
   "language": "python",
   "name": "python3"
  },
  "language_info": {
   "codemirror_mode": {
    "name": "ipython",
    "version": 3
   },
   "file_extension": ".py",
   "mimetype": "text/x-python",
   "name": "python",
   "nbconvert_exporter": "python",
   "pygments_lexer": "ipython3",
   "version": "3.7.9"
  }
 },
 "nbformat": 4,
 "nbformat_minor": 4
}