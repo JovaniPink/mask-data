{
 "cells": [
  {
   "cell_type": "markdown",
   "metadata": {},
   "source": [
    "# Mask Model"
   ]
  },
  {
   "cell_type": "markdown",
   "metadata": {},
   "source": [
    "## Dependencies"
   ]
  },
  {
   "cell_type": "code",
   "execution_count": 1,
   "metadata": {},
   "outputs": [
    {
     "name": "stdout",
     "output_type": "stream",
     "text": [
      "2.4.0\n",
      "[name: \"/device:CPU:0\"\n",
      "device_type: \"CPU\"\n",
      "memory_limit: 268435456\n",
      "locality {\n",
      "}\n",
      "incarnation: 15610286538566090712\n",
      "]\n"
     ]
    }
   ],
   "source": [
    "%config IPCompleter.greedy=True\n",
    "%matplotlib inline\n",
    "\n",
    "# Import the dependencies.\n",
    "# OpenCV\n",
    "import cv2\n",
    "\n",
    "# TensorFlow and tf.keras\n",
    "# https://www.tensorflow.org/api_docs/python/tf/keras\n",
    "import tensorflow as tf\n",
    "from tensorflow.keras import layers\n",
    "from tensorflow.keras.models import Sequential, save_model, load_model\n",
    "\n",
    "# Helper libraries\n",
    "import os\n",
    "import numpy as np\n",
    "import matplotlib.pyplot as plt\n",
    "\n",
    "# Tensorflow Libraries Matter for Speed!!!\n",
    "print(tf.__version__)\n",
    "from tensorflow.python.client import device_lib\n",
    "print(device_lib.list_local_devices())"
   ]
  },
  {
   "cell_type": "markdown",
   "metadata": {},
   "source": [
    "## Data Loading"
   ]
  },
  {
   "cell_type": "code",
   "execution_count": 2,
   "metadata": {},
   "outputs": [
    {
     "name": "stdout",
     "output_type": "stream",
     "text": [
      "Printing the labels'dict' {'without_mask': 0, 'with_mask': 1}\n",
      "Printing the categories'list' ['without_mask', 'with_mask']\n",
      "Printing the labels as digits [0, 1]\n"
     ]
    }
   ],
   "source": [
    "# Processed folder houses the already seperated image files\n",
    "# Images are separated into two categories \"without_mask\" & \"with_mask\"\n",
    "# Grab the location of the processed folder\n",
    "train_data_path = \"../data/processed/train\"\n",
    "\n",
    "# grab the two folder groups and make them to categories\n",
    "categories = os.listdir(train_data_path)\n",
    "labels = [i for i in range(len(categories))]\n",
    "\n",
    "# Initialize an empty dictionary for labels\n",
    "label_dict = dict(zip(categories, labels))\n",
    "\n",
    "print(f\"Printing the labels'dict' {label_dict}\")\n",
    "print(f\"Printing the categories'list' {categories}\")\n",
    "print(f\"Printing the labels as digits {labels}\")\n"
   ]
  },
  {
   "cell_type": "code",
   "execution_count": 3,
   "metadata": {},
   "outputs": [
    {
     "name": "stdout",
     "output_type": "stream",
     "text": [
      "Printing the labels'dict' {'without_mask': 0, 'with_mask': 1}\n",
      "Printing the categories'list' ['without_mask', 'with_mask']\n",
      "Printing the labels as digits [0, 1]\n"
     ]
    }
   ],
   "source": [
    "# Processed folder houses the already seperated image files\n",
    "# Images are sperated into two categories \"without_mask\" & \"with_mask\"\n",
    "# Grab the location of the processed folder\n",
    "test_data_path = \"../data/processed/test\"\n",
    "\n",
    "# grab the two folder groups and make them to categories\n",
    "test_categories = os.listdir(test_data_path)\n",
    "test_labels = [i for i in range(len(test_categories))]\n",
    "\n",
    "# Initialize an empty dictionary for labels\n",
    "test_label_dict = dict(zip(test_categories, test_labels))\n",
    "\n",
    "print(f\"Printing the labels'dict' {test_label_dict}\")\n",
    "print(f\"Printing the categories'list' {test_categories}\")\n",
    "print(f\"Printing the labels as digits {test_labels}\")\n"
   ]
  },
  {
   "cell_type": "markdown",
   "metadata": {},
   "source": [
    "## Data Preprocessing"
   ]
  },
  {
   "cell_type": "code",
   "execution_count": 4,
   "metadata": {},
   "outputs": [],
   "source": [
    "# Normalizing all images to the same size 300x300\n",
    "img_size = 100\n",
    "# List\n",
    "data = []\n",
    "target = []\n",
    "\n",
    "# Looping through the processed folder grabing each image\n",
    "# processing that image through cv2 to gray scale and demension\n",
    "for category in categories:\n",
    "    folder_path = os.path.join(train_data_path, category)\n",
    "    img_names = os.listdir(folder_path)\n",
    "\n",
    "    for img_name in img_names:\n",
    "        img_path = os.path.join(folder_path, img_name)\n",
    "        img = cv2.cvtColor(cv2.imread(img_path), cv2.COLOR_BGR2RGB)\n",
    "\n",
    "        try:\n",
    "            # Coverting the image into gray scale\n",
    "            gray = cv2.cvtColor(cv2.imread(img_path), cv2.COLOR_BGR2GRAY)\n",
    "            # Resizing the gray scale into 100x100, since we need a fixed common size for all the images in the dataset\n",
    "            resized = cv2.resize(gray, (img_size, img_size))\n",
    "            # Appending the image and the label(categorized) into the list (dataset)\n",
    "            data.append(resized)\n",
    "            target.append(label_dict[category])\n",
    "\n",
    "        except Exception as e:\n",
    "            # If any exception raised, the exception will be printed here. And pass to the next image\n",
    "            print(\"Exception:\", e)\n"
   ]
  },
  {
   "cell_type": "code",
   "execution_count": 17,
   "metadata": {},
   "outputs": [
    {
     "name": "stdout",
     "output_type": "stream",
     "text": [
      "(4463, 100, 100, 1)\n"
     ]
    }
   ],
   "source": [
    "# Create a numpy array to store data and target\n",
    "# Normalize data\n",
    "data = np.array(data) / 255.0\n",
    "\n",
    "data = np.reshape(data, (data.shape[0], img_size, img_size, 1))\n",
    "target = np.array(target)\n",
    "\n",
    "# Use the keras utils tool to create categorical target\n",
    "new_target = tf.keras.utils.to_categorical(target)"
   ]
  },
  {
   "cell_type": "code",
   "execution_count": 6,
   "metadata": {},
   "outputs": [],
   "source": [
    "# https://numpy.org/doc/stable/reference/generated/numpy.save.html\n",
    "np.save(\"numpy/data\", data)\n",
    "np.save(\"numpy/target\", new_target)\n"
   ]
  },
  {
   "cell_type": "markdown",
   "metadata": {},
   "source": [
    "## Building a Model\n",
    "\n",
    "Using a convolutional neural network (CNN) class of deep learning model."
   ]
  },
  {
   "cell_type": "code",
   "execution_count": 7,
   "metadata": {},
   "outputs": [
    {
     "name": "stdout",
     "output_type": "stream",
     "text": [
      "(100, 100, 1)\n"
     ]
    }
   ],
   "source": [
    "# Loading in the saved numpy arrays in the previous code\n",
    "data = np.load(\"numpy/data.npy\")\n",
    "target = np.load(\"numpy/target.npy\")\n",
    "print(data.shape[1:])"
   ]
  },
  {
   "cell_type": "code",
   "execution_count": 8,
   "metadata": {},
   "outputs": [
    {
     "name": "stdout",
     "output_type": "stream",
     "text": [
      "Model: \"sequential\"\n",
      "_________________________________________________________________\n",
      "Layer (type)                 Output Shape              Param #   \n",
      "=================================================================\n",
      "conv2d (Conv2D)              (None, 98, 98, 50)        500       \n",
      "_________________________________________________________________\n",
      "max_pooling2d (MaxPooling2D) (None, 49, 49, 50)        0         \n",
      "_________________________________________________________________\n",
      "conv2d_1 (Conv2D)            (None, 49, 49, 50)        2550      \n",
      "_________________________________________________________________\n",
      "max_pooling2d_1 (MaxPooling2 (None, 24, 24, 50)        0         \n",
      "_________________________________________________________________\n",
      "conv2d_2 (Conv2D)            (None, 22, 22, 100)       45100     \n",
      "_________________________________________________________________\n",
      "max_pooling2d_2 (MaxPooling2 (None, 11, 11, 100)       0         \n",
      "_________________________________________________________________\n",
      "conv2d_3 (Conv2D)            (None, 9, 9, 200)         180200    \n",
      "_________________________________________________________________\n",
      "max_pooling2d_3 (MaxPooling2 (None, 4, 4, 200)         0         \n",
      "_________________________________________________________________\n",
      "dropout (Dropout)            (None, 4, 4, 200)         0         \n",
      "_________________________________________________________________\n",
      "flatten (Flatten)            (None, 3200)              0         \n",
      "_________________________________________________________________\n",
      "dense (Dense)                (None, 50)                160050    \n",
      "_________________________________________________________________\n",
      "dense_1 (Dense)              (None, 2)                 102       \n",
      "=================================================================\n",
      "Total params: 388,502\n",
      "Trainable params: 388,502\n",
      "Non-trainable params: 0\n",
      "_________________________________________________________________\n",
      "None\n"
     ]
    }
   ],
   "source": [
    "# Create the model\n",
    "model = Sequential()\n",
    "\n",
    "# The first CNN layer followed by Relu and MaxPooling layers\n",
    "model.add(layers.Conv2D(50, (3, 3), activation=\"relu\", input_shape=(100, 100, 1)))\n",
    "model.add(layers.MaxPooling2D(pool_size=(2, 2)))\n",
    "\n",
    "# The second convolution layer followed by Relu and MaxPooling layers\n",
    "model.add(layers.Conv2D(50, (1, 1), activation=\"relu\"))\n",
    "model.add(layers.MaxPooling2D(pool_size=(2, 2)))\n",
    "\n",
    "# The thrid convolution layer followed by Relu and MaxPooling layers\n",
    "model.add(layers.Conv2D(100, (3, 3), activation=\"relu\"))\n",
    "model.add(layers.MaxPooling2D(pool_size=(2, 2)))\n",
    "\n",
    "# The fourth convolution layer followed by Relu and MaxPooling layers\n",
    "model.add(layers.Conv2D(200, (3, 3), activation=\"relu\"))\n",
    "model.add(layers.MaxPooling2D(pool_size=(2, 2)))\n",
    "\n",
    "# Flatten layer to stack the output convolutions from the fourth convolution layer\n",
    "model.add(layers.Dropout(0.25))\n",
    "model.add(layers.Flatten())\n",
    "\n",
    "# Dense layer of X neurons\n",
    "model.add(layers.Dense(50, activation=\"relu\"))\n",
    "# The Final layer with two outputs for two categories\n",
    "model.add(layers.Dense(2, activation=\"softmax\"))\n",
    "\n",
    "print(model.summary())\n"
   ]
  },
  {
   "cell_type": "code",
   "execution_count": 9,
   "metadata": {},
   "outputs": [],
   "source": [
    "# Compile the model\n",
    "model.compile(optimizer=\"adam\", loss=\"categorical_crossentropy\", metrics=[\"accuracy\"])\n"
   ]
  },
  {
   "cell_type": "markdown",
   "metadata": {},
   "source": [
    "## Train the Model"
   ]
  },
  {
   "cell_type": "code",
   "execution_count": 10,
   "metadata": {},
   "outputs": [],
   "source": [
    "from sklearn.model_selection import train_test_split\n",
    "\n",
    "# Use the train_test_split to split the data into training and testing set.\n",
    "# The data set isnt very large so only using 10% to test.\n",
    "train_data, test_data, train_target, test_target = train_test_split(\n",
    "    data, target, test_size=0.1\n",
    ")\n"
   ]
  },
  {
   "cell_type": "code",
   "execution_count": 11,
   "metadata": {},
   "outputs": [
    {
     "name": "stdout",
     "output_type": "stream",
     "text": [
      "Epoch 1/30\n",
      "101/101 [==============================] - 15s 139ms/step - loss: 0.6477 - accuracy: 0.5956 - val_loss: 0.4184 - val_accuracy: 0.8358\n",
      "INFO:tensorflow:Assets written to: model_checkpoints\\model-001.model\\assets\n",
      "Epoch 2/30\n",
      "101/101 [==============================] - 14s 142ms/step - loss: 0.4280 - accuracy: 0.8101 - val_loss: 0.2753 - val_accuracy: 0.8905\n",
      "INFO:tensorflow:Assets written to: model_checkpoints\\model-002.model\\assets\n",
      "Epoch 3/30\n",
      "101/101 [==============================] - 14s 143ms/step - loss: 0.2599 - accuracy: 0.8959 - val_loss: 0.2312 - val_accuracy: 0.9241\n",
      "INFO:tensorflow:Assets written to: model_checkpoints\\model-003.model\\assets\n",
      "Epoch 4/30\n",
      "101/101 [==============================] - 16s 155ms/step - loss: 0.2300 - accuracy: 0.8981 - val_loss: 0.1978 - val_accuracy: 0.9279\n",
      "INFO:tensorflow:Assets written to: model_checkpoints\\model-004.model\\assets\n",
      "Epoch 5/30\n",
      "101/101 [==============================] - 16s 161ms/step - loss: 0.1670 - accuracy: 0.9392 - val_loss: 0.1605 - val_accuracy: 0.9453\n",
      "INFO:tensorflow:Assets written to: model_checkpoints\\model-005.model\\assets\n",
      "Epoch 6/30\n",
      "101/101 [==============================] - 15s 149ms/step - loss: 0.1226 - accuracy: 0.9537 - val_loss: 0.1322 - val_accuracy: 0.9552\n",
      "INFO:tensorflow:Assets written to: model_checkpoints\\model-006.model\\assets\n",
      "Epoch 7/30\n",
      "101/101 [==============================] - 17s 166ms/step - loss: 0.1206 - accuracy: 0.9573 - val_loss: 0.1820 - val_accuracy: 0.9279\n",
      "Epoch 8/30\n",
      "101/101 [==============================] - 14s 141ms/step - loss: 0.1049 - accuracy: 0.9578 - val_loss: 0.1824 - val_accuracy: 0.9353\n",
      "Epoch 9/30\n",
      "101/101 [==============================] - 14s 134ms/step - loss: 0.1179 - accuracy: 0.9555 - val_loss: 0.1254 - val_accuracy: 0.9565\n",
      "INFO:tensorflow:Assets written to: model_checkpoints\\model-009.model\\assets\n",
      "Epoch 10/30\n",
      "101/101 [==============================] - 14s 135ms/step - loss: 0.0793 - accuracy: 0.9734 - val_loss: 0.1370 - val_accuracy: 0.9552\n",
      "Epoch 11/30\n",
      "101/101 [==============================] - 16s 155ms/step - loss: 0.0521 - accuracy: 0.9816 - val_loss: 0.1400 - val_accuracy: 0.9515\n",
      "Epoch 12/30\n",
      "101/101 [==============================] - 14s 142ms/step - loss: 0.0530 - accuracy: 0.9831 - val_loss: 0.1608 - val_accuracy: 0.9453\n",
      "Epoch 13/30\n",
      "101/101 [==============================] - 14s 140ms/step - loss: 0.0453 - accuracy: 0.9844 - val_loss: 0.1390 - val_accuracy: 0.9502\n",
      "Epoch 14/30\n",
      "101/101 [==============================] - 16s 157ms/step - loss: 0.0343 - accuracy: 0.9871 - val_loss: 0.1848 - val_accuracy: 0.9341\n",
      "Epoch 15/30\n",
      "101/101 [==============================] - 14s 143ms/step - loss: 0.0444 - accuracy: 0.9867 - val_loss: 0.1579 - val_accuracy: 0.9552\n",
      "Epoch 16/30\n",
      "101/101 [==============================] - 14s 140ms/step - loss: 0.0369 - accuracy: 0.9827 - val_loss: 0.1614 - val_accuracy: 0.9502\n",
      "Epoch 17/30\n",
      "101/101 [==============================] - 14s 141ms/step - loss: 0.0134 - accuracy: 0.9985 - val_loss: 0.1791 - val_accuracy: 0.9478\n",
      "Epoch 18/30\n",
      "101/101 [==============================] - 14s 141ms/step - loss: 0.0112 - accuracy: 0.9961 - val_loss: 0.1641 - val_accuracy: 0.9577\n",
      "Epoch 19/30\n",
      "101/101 [==============================] - 14s 134ms/step - loss: 0.0084 - accuracy: 0.9986 - val_loss: 0.2607 - val_accuracy: 0.9378\n",
      "Epoch 20/30\n",
      "101/101 [==============================] - 14s 137ms/step - loss: 0.0303 - accuracy: 0.9903 - val_loss: 0.1794 - val_accuracy: 0.9415\n",
      "Epoch 21/30\n",
      "101/101 [==============================] - 14s 140ms/step - loss: 0.0435 - accuracy: 0.9852 - val_loss: 0.1679 - val_accuracy: 0.9478\n",
      "Epoch 22/30\n",
      "101/101 [==============================] - 14s 136ms/step - loss: 0.0143 - accuracy: 0.9956 - val_loss: 0.1908 - val_accuracy: 0.9453\n",
      "Epoch 23/30\n",
      "101/101 [==============================] - 14s 140ms/step - loss: 0.0238 - accuracy: 0.9914 - val_loss: 0.2112 - val_accuracy: 0.9502\n",
      "Epoch 24/30\n",
      "101/101 [==============================] - 14s 143ms/step - loss: 0.0478 - accuracy: 0.9830 - val_loss: 0.1937 - val_accuracy: 0.9490\n",
      "Epoch 25/30\n",
      "101/101 [==============================] - 15s 145ms/step - loss: 0.0205 - accuracy: 0.9929 - val_loss: 0.2484 - val_accuracy: 0.9502\n",
      "Epoch 26/30\n",
      "101/101 [==============================] - 15s 150ms/step - loss: 0.0192 - accuracy: 0.9925 - val_loss: 0.2027 - val_accuracy: 0.9453\n",
      "Epoch 27/30\n",
      "101/101 [==============================] - 15s 147ms/step - loss: 0.0070 - accuracy: 0.9976 - val_loss: 0.2564 - val_accuracy: 0.9478\n",
      "Epoch 28/30\n",
      "101/101 [==============================] - 14s 142ms/step - loss: 0.0129 - accuracy: 0.9958 - val_loss: 0.2269 - val_accuracy: 0.9478\n",
      "Epoch 29/30\n",
      "101/101 [==============================] - 14s 142ms/step - loss: 0.0282 - accuracy: 0.9878 - val_loss: 0.1979 - val_accuracy: 0.9552\n",
      "Epoch 30/30\n",
      "101/101 [==============================] - 15s 147ms/step - loss: 0.0240 - accuracy: 0.9903 - val_loss: 0.2486 - val_accuracy: 0.9502\n"
     ]
    }
   ],
   "source": [
    "checkpoint = tf.keras.callbacks.ModelCheckpoint(\n",
    "    \"model_checkpoints/model-{epoch:03d}.model\",\n",
    "    monitor=\"val_loss\",\n",
    "    verbose=0,\n",
    "    save_best_only=True,\n",
    "    mode=\"auto\",\n",
    ")\n",
    "history = model.fit(\n",
    "    train_data, train_target, epochs=30, callbacks=[checkpoint], validation_split=0.2\n",
    ")\n"
   ]
  },
  {
   "cell_type": "code",
   "execution_count": 12,
   "metadata": {},
   "outputs": [
    {
     "data": {
      "image/png": "[encoded data removed]",
      "text/plain": [
       "<Figure size 576x396 with 1 Axes>"
      ]
     },
     "metadata": {},
     "output_type": "display_data"
    }
   ],
   "source": [
    "# Another Chart of what\n",
    "# Defined style for plot\n",
    "plt.style.use(\"seaborn\")\n",
    "plt.title(\"Accuracy\")\n",
    "plt.plot(history.history[\"accuracy\"], \"r\", label=\"Training Accuracy\")\n",
    "plt.plot(history.history[\"val_accuracy\"], label=\"Validation Accuracy\")\n",
    "plt.xlabel(\"Number of Epochs\")\n",
    "plt.ylabel(\"Loss\")\n",
    "plt.legend()\n",
    "plt.savefig(\"../resources/accuracy.png\")\n",
    "plt.show()\n"
   ]
  },
  {
   "cell_type": "code",
   "execution_count": 13,
   "metadata": {},
   "outputs": [
    {
     "data": {
      "image/png": "[encoded data removed]",
      "text/plain": [
       "<Figure size 576x396 with 1 Axes>"
      ]
     },
     "metadata": {},
     "output_type": "display_data"
    }
   ],
   "source": [
    "# Chart of What?\n",
    "# Defined style for plot\n",
    "plt.style.use(\"seaborn\")\n",
    "plt.title(\"Loss\")\n",
    "plt.plot(history.history[\"loss\"], \"r\", label=\"Training Loss\")\n",
    "plt.plot(history.history[\"val_loss\"], label=\"Validation Loss\")\n",
    "plt.xlabel(\"Number of Epochs\")\n",
    "plt.ylabel(\"Loss\")\n",
    "plt.legend()\n",
    "plt.savefig(\"../resources/loss.png\")\n",
    "plt.show()\n"
   ]
  },
  {
   "cell_type": "markdown",
   "metadata": {},
   "source": [
    "Double check of over fitting... Usually, when a model performs great on training data but poorly on validation data, we call this condition overfitting... we need more solid data or use Keras Data augmentation "
   ]
  },
  {
   "cell_type": "code",
   "execution_count": 14,
   "metadata": {},
   "outputs": [
    {
     "name": "stdout",
     "output_type": "stream",
     "text": [
      "14/14 [==============================] - 1s 38ms/step - loss: 0.3876 - accuracy: 0.9284\n",
      "[0.3875574469566345, 0.9284116625785828]\n"
     ]
    }
   ],
   "source": [
    "print(model.evaluate(test_data, test_target))\n"
   ]
  },
  {
   "cell_type": "code",
   "execution_count": 15,
   "metadata": {},
   "outputs": [
    {
     "name": "stdout",
     "output_type": "stream",
     "text": [
      "INFO:tensorflow:Assets written to: ./model_checkpoints/model\\assets\n"
     ]
    }
   ],
   "source": [
    "# Properly save the model for API use.\n",
    "model.save(\"./model_checkpoints/model\")\n"
   ]
  }
 ],
 "metadata": {
  "kernelspec": {
   "display_name": "Python 3",
   "language": "python",
   "name": "python3"
  },
  "language_info": {
   "codemirror_mode": {
    "name": "ipython",
    "version": 3
   },
   "file_extension": ".py",
   "mimetype": "text/x-python",
   "name": "python",
   "nbconvert_exporter": "python",
   "pygments_lexer": "ipython3",
   "version": "3.7.9"
  }
 },
 "nbformat": 4,
 "nbformat_minor": 4
}
