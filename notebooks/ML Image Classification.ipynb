{
 "cells": [
  {
   "cell_type": "markdown",
   "id": "exciting-conditioning",
   "metadata": {},
   "source": [
    "# Image Classification Techniques\n",
    "\n",
    "Classifier:\n",
    "\n",
    " - SVM\n",
    " - Decision Tress\n",
    " - KNN\n",
    " - ANN\n",
    " - CNN\n",
    " \n",
    " Convolutional Neural networks deliver the best results in computer vision tasks... https://www.quora.com/What-are-the-different-machine-learning-algorithms-for-image-classification-and-why-is-CNN-used-the-most\n",
    " \n",
    "Standing on the shoulders of giants! Kaggle Competitons!"
   ]
  },
  {
   "cell_type": "code",
   "execution_count": null,
   "id": "distant-harmony",
   "metadata": {},
   "outputs": [],
   "source": []
  }
 ],
 "metadata": {
  "kernelspec": {
   "display_name": "Python 3",
   "language": "python",
   "name": "python3"
  },
  "language_info": {
   "codemirror_mode": {
    "name": "ipython",
    "version": 3
   },
   "file_extension": ".py",
   "mimetype": "text/x-python",
   "name": "python",
   "nbconvert_exporter": "python",
   "pygments_lexer": "ipython3",
   "version": "3.7.9"
  }
 },
 "nbformat": 4,
 "nbformat_minor": 5
}
